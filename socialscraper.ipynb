{
 "cells": [
  {
   "cell_type": "code",
   "execution_count": 1,
   "metadata": {},
   "outputs": [],
   "source": [
    "from selenium import webdriver\n",
    "from selenium.webdriver.edge.service import Service as EdgeService\n",
    "from selenium.webdriver.edge.options import Options as EdgeOptions\n",
    "from selenium.webdriver.support.ui import WebDriverWait\n",
    "from selenium.webdriver.support import expected_conditions as EC\n",
    "from selenium.webdriver.common.by import By\n",
    "import json\n",
    "import gspread\n",
    "from oauth2client.service_account import ServiceAccountCredentials\n",
    "from bs4 import BeautifulSoup\n",
    "import pandas as pd \n",
    "import time\n"
   ]
  },
  {
   "cell_type": "code",
   "execution_count": 2,
   "metadata": {},
   "outputs": [],
   "source": [
    "edge_driver_path = \"driverpath\""
   ]
  },
  {
   "cell_type": "code",
   "execution_count": 3,
   "metadata": {},
   "outputs": [],
   "source": [
    "def sheet_connection():\n",
    "    scopes = [\n",
    "    'https://www.googleapis.com/auth/spreadsheets',\n",
    "    'https://www.googleapis.com/auth/drive']\n",
    "    credentials = ServiceAccountCredentials.from_json_keyfile_name(r'path', scopes) #access the json key you downloaded earlier\n",
    "    file = gspread.authorize(credentials) # authenticate the JSON key with gspread\n",
    "\n",
    "    \n",
    "    sheet = file.open(\"Influencers Contact Book\")\n",
    "\n",
    "    ws = sheet.get_worksheet(2)\n",
    "\n",
    "    data = pd.DataFrame(ws.get_all_records())\n",
    "\n",
    "#data , ws\n",
    "    \n",
    "    return data,ws"
   ]
  },
  {
   "cell_type": "code",
   "execution_count": 25,
   "metadata": {},
   "outputs": [],
   "source": [
    "df,ws = sheet_connection()"
   ]
  },
  {
   "cell_type": "code",
   "execution_count": 27,
   "metadata": {},
   "outputs": [
    {
     "data": {
      "text/plain": [
       "(72, 27)"
      ]
     },
     "execution_count": 27,
     "metadata": {},
     "output_type": "execute_result"
    }
   ],
   "source": [
    "df[df['FOLLOWERS'] == ''].shape"
   ]
  },
  {
   "cell_type": "code",
   "execution_count": 23,
   "metadata": {},
   "outputs": [],
   "source": [
    "def get_data():\n",
    "    df,ws = sheet_connection()\n",
    "\n",
    "    df_copy = df[615:]\n",
    "\n",
    "    edge_options = EdgeOptions()\n",
    "\n",
    "    edge_options.add_argument(\"start-maximized\")\n",
    "    edge_options.add_experimental_option(\"excludeSwitches\", [\"enable-automation\"])\n",
    "    edge_options.add_experimental_option('useAutomationExtension', False)\n",
    "\n",
    "    service = EdgeService(executable_path=edge_driver_path)\n",
    "    driver = webdriver.Edge(service=service, options=edge_options)\n",
    "\n",
    "\n",
    "    driver.get(\"https://socialblade.com\")\n",
    "\n",
    "    accept_button = WebDriverWait(driver, 10).until(EC.element_to_be_clickable((By.XPATH, '/html/body/div[6]/div/li[2]/a')))\n",
    "    accept_button.click()\n",
    "\n",
    "    time.sleep(1)\n",
    "\n",
    "\n",
    "    username=driver.find_element(By.XPATH ,'/html/body/div[10]/div[2]/form/div[1]/input[1]')\n",
    "    password=driver.find_element(By.XPATH ,'/html/body/div[10]/div[2]/form/div[2]/input')\n",
    "    username.clear()\n",
    "    password.clear()\n",
    "    username.send_keys(\"dawnghanadi@gmail.com\")\n",
    "    password.send_keys(\"1357246\")\n",
    "    accept_button = WebDriverWait(driver, 10).until(EC.element_to_be_clickable((By.XPATH, '/html/body/div[10]/div[2]/form/div[3]/input')))\n",
    "    accept_button.click()\n",
    "    # Create an empty list to store the scraped data\n",
    "    \n",
    "    #getting blank rows\n",
    "    #df_copy = df[df['FOLLOWERS'] == '']\n",
    "\n",
    "    time.sleep(3)\n",
    "    # Loop through the rows in the DataFrame\n",
    "    for index, row in df_copy.iterrows():\n",
    "        time.sleep(1)\n",
    "\n",
    "        data = []\n",
    "        print('Scraping {} Account...'.format(row['ID']))\n",
    "        try:\n",
    "            # Search for the ID\n",
    "                accept_button = WebDriverWait(driver, 10).until(EC.element_to_be_clickable((By.XPATH, '/html/body/div[7]/div/div[2]/form/div[2]/div/div/span'))).click()\n",
    "                time.sleep(2)\n",
    "                accept_button = WebDriverWait(driver, 10).until(EC.element_to_be_clickable((By.XPATH, '/html/body/div[7]/div/div[2]/form/div[2]/div/ul/li[4]'))).click()\n",
    "\n",
    "                search_input=driver.find_element(By.XPATH ,'/html/body/div[7]/div/div[2]/form/div[1]/input')\n",
    "                search_input.clear()\n",
    "                search_input.send_keys(row['ID'])\n",
    "                accept_button = WebDriverWait(driver, 10).until(EC.element_to_be_clickable((By.XPATH, '/html/body/div[7]/div/div[2]/form/div[1]/button/i')))\n",
    "                accept_button.click()\n",
    "\n",
    "                time.sleep(4)\n",
    "                # Scrape the data\n",
    "                table = driver.find_element(By.XPATH , '/html/body/div[11]/div[2]/div/div[3]')\n",
    "                first_box_data = table.text\n",
    "                first_box_dict = {'MEDIA_UPLOADS':first_box_data.split('\\n')[1] ,\n",
    "                    'FOLLOWERS':first_box_data.split('\\n')[3] , \n",
    "                    'FOLLOWING' : first_box_data.split('\\n')[5],\n",
    "                    'ENGAGEMENT_RATE' : first_box_data.split('\\n')[8],\n",
    "                    'AVG_LIKES' : first_box_data.split('\\n')[10],\n",
    "                    'AVG_COMMENTS' : first_box_data.split('\\n')[12]}\n",
    "\n",
    "                # table2 = driver.find_element(By.XPATH , '/html/body/div[12]/div[1]/div[3]')\n",
    "                # second_box_data = table2.text\n",
    "                # second_box_dict = {'last_30_days_followers':second_box_data.split('\\n')[0].split(' ')[0] ,\n",
    "                #                 'Last_30_days_follwers_raise':second_box_data.split('\\n')[0].split(' ')[1] ,\n",
    "                #                 'last_30_days_following':second_box_data.split('\\n')[2].split(' ')[0],\n",
    "                #                 'Last_30_days_following_raise':second_box_data.split('\\n')[2].split(' ')[1],\n",
    "                #                 #'last_30_days_media':second_box_data.split('\\n')[4].split(' ')[0],\n",
    "                #                 'last_30_days_media_raise':second_box_data.split('\\n')[4].split(' ')[1]}\n",
    "\n",
    "                # Combine the data into a DataFrame and append it to the list\n",
    "                row_data = {**first_box_dict}\n",
    "                row_data['ID'] = row['ID']\n",
    "                data.append(row_data)\n",
    "                ws.update('V{}:AA{}'.format(index+2 , index+2) ,[[data[0]['MEDIA_UPLOADS'],data[0]['FOLLOWERS'],data[0]['FOLLOWING'],data[0]['ENGAGEMENT_RATE'],data[0]['AVG_LIKES'],data[0]['AVG_COMMENTS']]])\n",
    "                \n",
    "        except:\n",
    "                pass\n",
    "    # Close the webdriver\n",
    "    driver.quit()\n",
    "    \n",
    "    # Create a DataFrame from the list of scraped data\n",
    "    #cc = pd.merge(df,pd.DataFrame(data),on = 'ID' , how = 'outer')\n",
    "\n",
    "\n",
    "    # ws.append_row(data.values, table_range=\"V1:AA1\")\n",
    "    # for i in range(len(data)): \n",
    "    #     ws.update(\"V1:AA\",[[data[i]]])\n",
    "\n",
    "    return \n",
    "\n",
    "\n",
    "\n"
   ]
  },
  {
   "cell_type": "code",
   "execution_count": 24,
   "metadata": {},
   "outputs": [
    {
     "name": "stderr",
     "output_type": "stream",
     "text": [
      "Incompatible release of msedgedriver (version 114.0.1823.82) detected in PATH: c:\\Users\\S.Ghanadi\\Desktop\\inf_sheet\\msedgedriver.exe\n"
     ]
    },
    {
     "name": "stdout",
     "output_type": "stream",
     "text": [
      "Scraping parmidamamaghani Account...\n",
      "Scraping shaqayeq.mahmoodi Account...\n",
      "Scraping ahooo_beautiful_angel Account...\n",
      "Scraping tiamamirbakhtiar Account...\n"
     ]
    }
   ],
   "source": [
    "check = get_data()\n"
   ]
  },
  {
   "cell_type": "code",
   "execution_count": 62,
   "metadata": {},
   "outputs": [
    {
     "data": {
      "text/plain": [
       "ID                               0\n",
       "Eng May 2023                     0\n",
       "Follower May 2023                0\n",
       "Eng July 2023                    0\n",
       "Follower July 2023               0\n",
       "Name                             0\n",
       "Link                             0\n",
       "Phone Number                     0\n",
       "Description                      0\n",
       "Activity - 1                     0\n",
       "Activity - 2                     0\n",
       "Sex                              0\n",
       "Marital status                   0\n",
       "BackGround Check                 0\n",
       "Social Media                     0\n",
       "Phone                            0\n",
       "City                             0\n",
       "Price Post                       0\n",
       "Off Pirce                        0\n",
       "Price Story                      0\n",
       "Off Story                        0\n",
       "MEDIA_UPLOADS                   29\n",
       "FOLLOWERS                       29\n",
       "FOLLOWING                       29\n",
       "ENGAGEMENT_RATE                 29\n",
       "AVG_LIKES                       29\n",
       "AVG_COMMENTS                    29\n",
       "last_30_days_followers          29\n",
       "Last_30_days_follwers_raise     29\n",
       "last_30_days_following          29\n",
       "Last_30_days_following_raise    29\n",
       "last_30_days_media              29\n",
       "last_30_days_media_raise        29\n",
       "dtype: int64"
      ]
     },
     "execution_count": 62,
     "metadata": {},
     "output_type": "execute_result"
    }
   ],
   "source": [
    "check.isnull().sum()"
   ]
  },
  {
   "cell_type": "code",
   "execution_count": null,
   "metadata": {},
   "outputs": [],
   "source": []
  }
 ],
 "metadata": {
  "interpreter": {
   "hash": "ad2bdc8ecc057115af97d19610ffacc2b4e99fae6737bb82f5d7fb13d2f2c186"
  },
  "kernelspec": {
   "display_name": "Python 3.8.8 ('base')",
   "language": "python",
   "name": "python3"
  },
  "language_info": {
   "codemirror_mode": {
    "name": "ipython",
    "version": 3
   },
   "file_extension": ".py",
   "mimetype": "text/x-python",
   "name": "python",
   "nbconvert_exporter": "python",
   "pygments_lexer": "ipython3",
   "version": "3.8.8"
  },
  "orig_nbformat": 4
 },
 "nbformat": 4,
 "nbformat_minor": 2
}
